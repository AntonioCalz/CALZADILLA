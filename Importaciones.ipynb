{
  "nbformat": 4,
  "nbformat_minor": 0,
  "metadata": {
    "colab": {
      "name": "Untitled29.ipynb",
      "provenance": [],
      "authorship_tag": "ABX9TyM75q0Xw9lSMXOKlKebbEMu",
      "include_colab_link": true
    },
    "kernelspec": {
      "name": "python3",
      "display_name": "Python 3"
    },
    "language_info": {
      "name": "python"
    }
  },
  "cells": [
    {
      "cell_type": "markdown",
      "metadata": {
        "id": "view-in-github",
        "colab_type": "text"
      },
      "source": [
        "<a href=\"https://colab.research.google.com/github/AntonioCalz/CALZADILLA/blob/main/Importaciones.ipynb\" target=\"_parent\"><img src=\"https://colab.research.google.com/assets/colab-badge.svg\" alt=\"Open In Colab\"/></a>"
      ]
    },
    {
      "cell_type": "code",
      "metadata": {
        "id": "rH79UMnCHPM3"
      },
      "source": [
        "#%% [markdown]\n",
        "# Exploración de Synergy Logistics DB"
      ],
      "execution_count": 2,
      "outputs": []
    },
    {
      "cell_type": "code",
      "metadata": {
        "id": "P9s-Gt4xIQas"
      },
      "source": [
        "#%% [code]\n",
        "import pandas as pd\n",
        "pd.plotting.register_matplotlib_converters()\n",
        "import matplotlib.pyplot as plt\n",
        "%matplotlib inline\n",
        "import seaborn as sns"
      ],
      "execution_count": 4,
      "outputs": []
    },
    {
      "cell_type": "code",
      "metadata": {
        "id": "F3gizF_hIU80"
      },
      "source": [
        "filepath = 'synergy_logistics_database.txt'\n"
      ],
      "execution_count": 12,
      "outputs": []
    },
    {
      "cell_type": "code",
      "metadata": {
        "id": "fxCb1f9BIZ7Y"
      },
      "source": [
        "datos = pd.read_csv(filepath, index_col=\"register_id\")"
      ],
      "execution_count": 39,
      "outputs": []
    },
    {
      "cell_type": "code",
      "metadata": {
        "colab": {
          "base_uri": "https://localhost:8080/",
          "height": 230
        },
        "id": "jIQ8GedQJFDD",
        "outputId": "4bb831c2-acf5-467c-81b4-44c9407a8d53"
      },
      "source": [
        "datos.head()"
      ],
      "execution_count": 14,
      "outputs": [
        {
          "output_type": "execute_result",
          "data": {
            "text/html": [
              "<div>\n",
              "<style scoped>\n",
              "    .dataframe tbody tr th:only-of-type {\n",
              "        vertical-align: middle;\n",
              "    }\n",
              "\n",
              "    .dataframe tbody tr th {\n",
              "        vertical-align: top;\n",
              "    }\n",
              "\n",
              "    .dataframe thead th {\n",
              "        text-align: right;\n",
              "    }\n",
              "</style>\n",
              "<table border=\"1\" class=\"dataframe\">\n",
              "  <thead>\n",
              "    <tr style=\"text-align: right;\">\n",
              "      <th></th>\n",
              "      <th>direction</th>\n",
              "      <th>origin</th>\n",
              "      <th>destination</th>\n",
              "      <th>year</th>\n",
              "      <th>date</th>\n",
              "      <th>product</th>\n",
              "      <th>transport_mode</th>\n",
              "      <th>company_name</th>\n",
              "      <th>total_value</th>\n",
              "    </tr>\n",
              "    <tr>\n",
              "      <th>register_id</th>\n",
              "      <th></th>\n",
              "      <th></th>\n",
              "      <th></th>\n",
              "      <th></th>\n",
              "      <th></th>\n",
              "      <th></th>\n",
              "      <th></th>\n",
              "      <th></th>\n",
              "      <th></th>\n",
              "    </tr>\n",
              "  </thead>\n",
              "  <tbody>\n",
              "    <tr>\n",
              "      <th>1</th>\n",
              "      <td>Exports</td>\n",
              "      <td>Japan</td>\n",
              "      <td>China</td>\n",
              "      <td>2015</td>\n",
              "      <td>31/01/15</td>\n",
              "      <td>Cars</td>\n",
              "      <td>Sea</td>\n",
              "      <td>Honda</td>\n",
              "      <td>33000000</td>\n",
              "    </tr>\n",
              "    <tr>\n",
              "      <th>2</th>\n",
              "      <td>Exports</td>\n",
              "      <td>Japan</td>\n",
              "      <td>China</td>\n",
              "      <td>2015</td>\n",
              "      <td>01/02/15</td>\n",
              "      <td>Cars</td>\n",
              "      <td>Sea</td>\n",
              "      <td>Honda</td>\n",
              "      <td>16000000</td>\n",
              "    </tr>\n",
              "    <tr>\n",
              "      <th>3</th>\n",
              "      <td>Exports</td>\n",
              "      <td>Japan</td>\n",
              "      <td>China</td>\n",
              "      <td>2015</td>\n",
              "      <td>02/02/15</td>\n",
              "      <td>Cars</td>\n",
              "      <td>Sea</td>\n",
              "      <td>Honda</td>\n",
              "      <td>29000000</td>\n",
              "    </tr>\n",
              "    <tr>\n",
              "      <th>4</th>\n",
              "      <td>Exports</td>\n",
              "      <td>Japan</td>\n",
              "      <td>China</td>\n",
              "      <td>2015</td>\n",
              "      <td>03/02/15</td>\n",
              "      <td>Cars</td>\n",
              "      <td>Sea</td>\n",
              "      <td>Honda</td>\n",
              "      <td>14000000</td>\n",
              "    </tr>\n",
              "    <tr>\n",
              "      <th>5</th>\n",
              "      <td>Exports</td>\n",
              "      <td>Japan</td>\n",
              "      <td>China</td>\n",
              "      <td>2015</td>\n",
              "      <td>04/02/15</td>\n",
              "      <td>Cars</td>\n",
              "      <td>Sea</td>\n",
              "      <td>Honda</td>\n",
              "      <td>17000000</td>\n",
              "    </tr>\n",
              "  </tbody>\n",
              "</table>\n",
              "</div>"
            ],
            "text/plain": [
              "            direction origin  ... company_name  total_value\n",
              "register_id                   ...                          \n",
              "1             Exports  Japan  ...        Honda     33000000\n",
              "2             Exports  Japan  ...        Honda     16000000\n",
              "3             Exports  Japan  ...        Honda     29000000\n",
              "4             Exports  Japan  ...        Honda     14000000\n",
              "5             Exports  Japan  ...        Honda     17000000\n",
              "\n",
              "[5 rows x 9 columns]"
            ]
          },
          "metadata": {},
          "execution_count": 14
        }
      ]
    },
    {
      "cell_type": "code",
      "metadata": {
        "colab": {
          "base_uri": "https://localhost:8080/",
          "height": 230
        },
        "id": "LtKsAP67JLS4",
        "outputId": "1961d594-de9b-46b1-99f7-76a40e54e91f"
      },
      "source": [
        "datos.tail()"
      ],
      "execution_count": 15,
      "outputs": [
        {
          "output_type": "execute_result",
          "data": {
            "text/html": [
              "<div>\n",
              "<style scoped>\n",
              "    .dataframe tbody tr th:only-of-type {\n",
              "        vertical-align: middle;\n",
              "    }\n",
              "\n",
              "    .dataframe tbody tr th {\n",
              "        vertical-align: top;\n",
              "    }\n",
              "\n",
              "    .dataframe thead th {\n",
              "        text-align: right;\n",
              "    }\n",
              "</style>\n",
              "<table border=\"1\" class=\"dataframe\">\n",
              "  <thead>\n",
              "    <tr style=\"text-align: right;\">\n",
              "      <th></th>\n",
              "      <th>direction</th>\n",
              "      <th>origin</th>\n",
              "      <th>destination</th>\n",
              "      <th>year</th>\n",
              "      <th>date</th>\n",
              "      <th>product</th>\n",
              "      <th>transport_mode</th>\n",
              "      <th>company_name</th>\n",
              "      <th>total_value</th>\n",
              "    </tr>\n",
              "    <tr>\n",
              "      <th>register_id</th>\n",
              "      <th></th>\n",
              "      <th></th>\n",
              "      <th></th>\n",
              "      <th></th>\n",
              "      <th></th>\n",
              "      <th></th>\n",
              "      <th></th>\n",
              "      <th></th>\n",
              "      <th></th>\n",
              "    </tr>\n",
              "  </thead>\n",
              "  <tbody>\n",
              "    <tr>\n",
              "      <th>19052</th>\n",
              "      <td>Imports</td>\n",
              "      <td>Japan</td>\n",
              "      <td>Singapore</td>\n",
              "      <td>2020</td>\n",
              "      <td>27/06/20</td>\n",
              "      <td>Gas turbines</td>\n",
              "      <td>Sea</td>\n",
              "      <td>Union Energy Co</td>\n",
              "      <td>1000000</td>\n",
              "    </tr>\n",
              "    <tr>\n",
              "      <th>19053</th>\n",
              "      <td>Imports</td>\n",
              "      <td>Malaysia</td>\n",
              "      <td>Singapore</td>\n",
              "      <td>2020</td>\n",
              "      <td>28/06/20</td>\n",
              "      <td>Gas turbines</td>\n",
              "      <td>Sea</td>\n",
              "      <td>Union Energy Co</td>\n",
              "      <td>2000000</td>\n",
              "    </tr>\n",
              "    <tr>\n",
              "      <th>19054</th>\n",
              "      <td>Imports</td>\n",
              "      <td>Malaysia</td>\n",
              "      <td>Singapore</td>\n",
              "      <td>2020</td>\n",
              "      <td>29/06/20</td>\n",
              "      <td>Gas turbines</td>\n",
              "      <td>Sea</td>\n",
              "      <td>Union Energy Co</td>\n",
              "      <td>33000000</td>\n",
              "    </tr>\n",
              "    <tr>\n",
              "      <th>19055</th>\n",
              "      <td>Imports</td>\n",
              "      <td>Malaysia</td>\n",
              "      <td>Singapore</td>\n",
              "      <td>2020</td>\n",
              "      <td>30/06/20</td>\n",
              "      <td>Gas turbines</td>\n",
              "      <td>Sea</td>\n",
              "      <td>Union Energy Co</td>\n",
              "      <td>13000000</td>\n",
              "    </tr>\n",
              "    <tr>\n",
              "      <th>19056</th>\n",
              "      <td>Imports</td>\n",
              "      <td>Malaysia</td>\n",
              "      <td>Singapore</td>\n",
              "      <td>2020</td>\n",
              "      <td>01/07/20</td>\n",
              "      <td>Gas turbines</td>\n",
              "      <td>Sea</td>\n",
              "      <td>Union Energy Co</td>\n",
              "      <td>30000000</td>\n",
              "    </tr>\n",
              "  </tbody>\n",
              "</table>\n",
              "</div>"
            ],
            "text/plain": [
              "            direction    origin  ...     company_name  total_value\n",
              "register_id                      ...                              \n",
              "19052         Imports     Japan  ...  Union Energy Co      1000000\n",
              "19053         Imports  Malaysia  ...  Union Energy Co      2000000\n",
              "19054         Imports  Malaysia  ...  Union Energy Co     33000000\n",
              "19055         Imports  Malaysia  ...  Union Energy Co     13000000\n",
              "19056         Imports  Malaysia  ...  Union Energy Co     30000000\n",
              "\n",
              "[5 rows x 9 columns]"
            ]
          },
          "metadata": {},
          "execution_count": 15
        }
      ]
    },
    {
      "cell_type": "code",
      "metadata": {
        "colab": {
          "base_uri": "https://localhost:8080/",
          "height": 230
        },
        "id": "Mg7vP37YJOf2",
        "outputId": "b9d52c7d-2204-484e-b2fe-b37779aa8e1c"
      },
      "source": [
        "datos.tail()"
      ],
      "execution_count": 16,
      "outputs": [
        {
          "output_type": "execute_result",
          "data": {
            "text/html": [
              "<div>\n",
              "<style scoped>\n",
              "    .dataframe tbody tr th:only-of-type {\n",
              "        vertical-align: middle;\n",
              "    }\n",
              "\n",
              "    .dataframe tbody tr th {\n",
              "        vertical-align: top;\n",
              "    }\n",
              "\n",
              "    .dataframe thead th {\n",
              "        text-align: right;\n",
              "    }\n",
              "</style>\n",
              "<table border=\"1\" class=\"dataframe\">\n",
              "  <thead>\n",
              "    <tr style=\"text-align: right;\">\n",
              "      <th></th>\n",
              "      <th>direction</th>\n",
              "      <th>origin</th>\n",
              "      <th>destination</th>\n",
              "      <th>year</th>\n",
              "      <th>date</th>\n",
              "      <th>product</th>\n",
              "      <th>transport_mode</th>\n",
              "      <th>company_name</th>\n",
              "      <th>total_value</th>\n",
              "    </tr>\n",
              "    <tr>\n",
              "      <th>register_id</th>\n",
              "      <th></th>\n",
              "      <th></th>\n",
              "      <th></th>\n",
              "      <th></th>\n",
              "      <th></th>\n",
              "      <th></th>\n",
              "      <th></th>\n",
              "      <th></th>\n",
              "      <th></th>\n",
              "    </tr>\n",
              "  </thead>\n",
              "  <tbody>\n",
              "    <tr>\n",
              "      <th>19052</th>\n",
              "      <td>Imports</td>\n",
              "      <td>Japan</td>\n",
              "      <td>Singapore</td>\n",
              "      <td>2020</td>\n",
              "      <td>27/06/20</td>\n",
              "      <td>Gas turbines</td>\n",
              "      <td>Sea</td>\n",
              "      <td>Union Energy Co</td>\n",
              "      <td>1000000</td>\n",
              "    </tr>\n",
              "    <tr>\n",
              "      <th>19053</th>\n",
              "      <td>Imports</td>\n",
              "      <td>Malaysia</td>\n",
              "      <td>Singapore</td>\n",
              "      <td>2020</td>\n",
              "      <td>28/06/20</td>\n",
              "      <td>Gas turbines</td>\n",
              "      <td>Sea</td>\n",
              "      <td>Union Energy Co</td>\n",
              "      <td>2000000</td>\n",
              "    </tr>\n",
              "    <tr>\n",
              "      <th>19054</th>\n",
              "      <td>Imports</td>\n",
              "      <td>Malaysia</td>\n",
              "      <td>Singapore</td>\n",
              "      <td>2020</td>\n",
              "      <td>29/06/20</td>\n",
              "      <td>Gas turbines</td>\n",
              "      <td>Sea</td>\n",
              "      <td>Union Energy Co</td>\n",
              "      <td>33000000</td>\n",
              "    </tr>\n",
              "    <tr>\n",
              "      <th>19055</th>\n",
              "      <td>Imports</td>\n",
              "      <td>Malaysia</td>\n",
              "      <td>Singapore</td>\n",
              "      <td>2020</td>\n",
              "      <td>30/06/20</td>\n",
              "      <td>Gas turbines</td>\n",
              "      <td>Sea</td>\n",
              "      <td>Union Energy Co</td>\n",
              "      <td>13000000</td>\n",
              "    </tr>\n",
              "    <tr>\n",
              "      <th>19056</th>\n",
              "      <td>Imports</td>\n",
              "      <td>Malaysia</td>\n",
              "      <td>Singapore</td>\n",
              "      <td>2020</td>\n",
              "      <td>01/07/20</td>\n",
              "      <td>Gas turbines</td>\n",
              "      <td>Sea</td>\n",
              "      <td>Union Energy Co</td>\n",
              "      <td>30000000</td>\n",
              "    </tr>\n",
              "  </tbody>\n",
              "</table>\n",
              "</div>"
            ],
            "text/plain": [
              "            direction    origin  ...     company_name  total_value\n",
              "register_id                      ...                              \n",
              "19052         Imports     Japan  ...  Union Energy Co      1000000\n",
              "19053         Imports  Malaysia  ...  Union Energy Co      2000000\n",
              "19054         Imports  Malaysia  ...  Union Energy Co     33000000\n",
              "19055         Imports  Malaysia  ...  Union Energy Co     13000000\n",
              "19056         Imports  Malaysia  ...  Union Energy Co     30000000\n",
              "\n",
              "[5 rows x 9 columns]"
            ]
          },
          "metadata": {},
          "execution_count": 16
        }
      ]
    },
    {
      "cell_type": "code",
      "metadata": {
        "colab": {
          "base_uri": "https://localhost:8080/",
          "height": 290
        },
        "id": "3xMdf1anJRxQ",
        "outputId": "da428b47-a5d2-41dc-b0aa-0828311b86d7"
      },
      "source": [
        "datos.describe()"
      ],
      "execution_count": 42,
      "outputs": [
        {
          "output_type": "execute_result",
          "data": {
            "text/html": [
              "<div>\n",
              "<style scoped>\n",
              "    .dataframe tbody tr th:only-of-type {\n",
              "        vertical-align: middle;\n",
              "    }\n",
              "\n",
              "    .dataframe tbody tr th {\n",
              "        vertical-align: top;\n",
              "    }\n",
              "\n",
              "    .dataframe thead th {\n",
              "        text-align: right;\n",
              "    }\n",
              "</style>\n",
              "<table border=\"1\" class=\"dataframe\">\n",
              "  <thead>\n",
              "    <tr style=\"text-align: right;\">\n",
              "      <th></th>\n",
              "      <th>year</th>\n",
              "      <th>total_value</th>\n",
              "    </tr>\n",
              "  </thead>\n",
              "  <tbody>\n",
              "    <tr>\n",
              "      <th>count</th>\n",
              "      <td>19056.000000</td>\n",
              "      <td>1.905600e+04</td>\n",
              "    </tr>\n",
              "    <tr>\n",
              "      <th>mean</th>\n",
              "      <td>2017.496327</td>\n",
              "      <td>1.131881e+07</td>\n",
              "    </tr>\n",
              "    <tr>\n",
              "      <th>std</th>\n",
              "      <td>1.706975</td>\n",
              "      <td>1.536656e+07</td>\n",
              "    </tr>\n",
              "    <tr>\n",
              "      <th>min</th>\n",
              "      <td>2015.000000</td>\n",
              "      <td>0.000000e+00</td>\n",
              "    </tr>\n",
              "    <tr>\n",
              "      <th>25%</th>\n",
              "      <td>2016.000000</td>\n",
              "      <td>6.400000e+04</td>\n",
              "    </tr>\n",
              "    <tr>\n",
              "      <th>50%</th>\n",
              "      <td>2017.000000</td>\n",
              "      <td>5.000000e+06</td>\n",
              "    </tr>\n",
              "    <tr>\n",
              "      <th>75%</th>\n",
              "      <td>2019.000000</td>\n",
              "      <td>1.600000e+07</td>\n",
              "    </tr>\n",
              "    <tr>\n",
              "      <th>max</th>\n",
              "      <td>2020.000000</td>\n",
              "      <td>2.850000e+08</td>\n",
              "    </tr>\n",
              "  </tbody>\n",
              "</table>\n",
              "</div>"
            ],
            "text/plain": [
              "               year   total_value\n",
              "count  19056.000000  1.905600e+04\n",
              "mean    2017.496327  1.131881e+07\n",
              "std        1.706975  1.536656e+07\n",
              "min     2015.000000  0.000000e+00\n",
              "25%     2016.000000  6.400000e+04\n",
              "50%     2017.000000  5.000000e+06\n",
              "75%     2019.000000  1.600000e+07\n",
              "max     2020.000000  2.850000e+08"
            ]
          },
          "metadata": {},
          "execution_count": 42
        }
      ]
    },
    {
      "cell_type": "code",
      "metadata": {
        "colab": {
          "base_uri": "https://localhost:8080/",
          "height": 50
        },
        "id": "wOZTsw0MJYh5",
        "outputId": "16473f33-c86c-4db3-d010-ab0b00604133"
      },
      "source": [
        "# Estableces el ancho y alto de la figura\n",
        "plt.figure(figsize=(16,6))"
      ],
      "execution_count": 33,
      "outputs": [
        {
          "output_type": "execute_result",
          "data": {
            "text/plain": [
              "<Figure size 1152x432 with 0 Axes>"
            ]
          },
          "metadata": {},
          "execution_count": 33
        },
        {
          "output_type": "display_data",
          "data": {
            "text/plain": [
              "<Figure size 1152x432 with 0 Axes>"
            ]
          },
          "metadata": {}
        }
      ]
    },
    {
      "cell_type": "code",
      "metadata": {
        "colab": {
          "base_uri": "https://localhost:8080/",
          "height": 385
        },
        "id": "pwM62fOPJf-2",
        "outputId": "b7fb396b-54b3-4231-fa45-8e4ba19a42e6"
      },
      "source": [
        "# Gráfico para los tipos de transporte\n",
        "sns.catplot(x='transport_mode', data=datos,kind='count')"
      ],
      "execution_count": 21,
      "outputs": [
        {
          "output_type": "execute_result",
          "data": {
            "text/plain": [
              "<seaborn.axisgrid.FacetGrid at 0x7f0ff48b2490>"
            ]
          },
          "metadata": {},
          "execution_count": 21
        },
        {
          "output_type": "display_data",
          "data": {
            "image/png": "[encoded data removed]",
            "text/plain": [
              "<Figure size 360x360 with 1 Axes>"
            ]
          },
          "metadata": {
            "needs_background": "light"
          }
        }
      ]
    },
    {
      "cell_type": "code",
      "metadata": {
        "colab": {
          "base_uri": "https://localhost:8080/",
          "height": 385
        },
        "id": "DrgSPFRpJpk5",
        "outputId": "dc6f2e53-9dee-452c-9809-25d9c075f33c"
      },
      "source": [
        "# Gráfico para los tipos de transporte por año\n",
        "sns.catplot(x='transport_mode', data=datos, hue='year',kind='count')"
      ],
      "execution_count": 24,
      "outputs": [
        {
          "output_type": "execute_result",
          "data": {
            "text/plain": [
              "<seaborn.axisgrid.FacetGrid at 0x7f0fec231990>"
            ]
          },
          "metadata": {},
          "execution_count": 24
        },
        {
          "output_type": "display_data",
          "data": {
            "image/png": "[encoded data removed]",
            "text/plain": [
              "<Figure size 421.375x360 with 1 Axes>"
            ]
          },
          "metadata": {
            "needs_background": "light"
          }
        }
      ]
    },
    {
      "cell_type": "code",
      "metadata": {
        "colab": {
          "base_uri": "https://localhost:8080/",
          "height": 385
        },
        "id": "hdOj3y0QJ1fN",
        "outputId": "3a9a1eb7-8842-4f5d-f0ef-8e27a70085c0"
      },
      "source": [
        "# Gráfico para los tipos de transporte por año\n",
        "sns.catplot(x='year', data=datos, hue='transport_mode',kind='count')"
      ],
      "execution_count": 25,
      "outputs": [
        {
          "output_type": "execute_result",
          "data": {
            "text/plain": [
              "<seaborn.axisgrid.FacetGrid at 0x7f0feb6a7d50>"
            ]
          },
          "metadata": {},
          "execution_count": 25
        },
        {
          "output_type": "display_data",
          "data": {
            "image/png": "[encoded data removed]",
            "text/plain": [
              "<Figure size 447.125x360 with 1 Axes>"
            ]
          },
          "metadata": {
            "needs_background": "light"
          }
        }
      ]
    },
    {
      "cell_type": "code",
      "metadata": {
        "colab": {
          "base_uri": "https://localhost:8080/"
        },
        "id": "cHOHKnviJ-2x",
        "outputId": "47b362f1-6f2c-4311-c732-97378e26a023"
      },
      "source": [
        "# Obtener los valores únicos de origen\n",
        "datos['origin'].unique()"
      ],
      "execution_count": 26,
      "outputs": [
        {
          "output_type": "execute_result",
          "data": {
            "text/plain": [
              "array(['Japan', 'Germany', 'China', 'Italy', 'USA', 'Russia',\n",
              "       'South Korea', 'Netherlands', 'France', 'Canada', 'Belgium',\n",
              "       'Spain', 'India', 'United Kingdom', 'Australia', 'Brazil',\n",
              "       'Switzerland', 'Mexico', 'Austria', 'Singapore', 'Vietnam',\n",
              "       'Malaysia', 'United Arab Emirates'], dtype=object)"
            ]
          },
          "metadata": {},
          "execution_count": 26
        }
      ]
    },
    {
      "cell_type": "code",
      "metadata": {
        "colab": {
          "base_uri": "https://localhost:8080/"
        },
        "id": "re0deBiDKIhY",
        "outputId": "4bf1cc98-9e14-4348-b401-86aecc2e753d"
      },
      "source": [
        "# Obtener los valores únicos de destino\n",
        "datos['destination'].unique()"
      ],
      "execution_count": 28,
      "outputs": [
        {
          "output_type": "execute_result",
          "data": {
            "text/plain": [
              "array(['China', 'USA', 'South Korea', 'Spain', 'Italy', 'Japan',\n",
              "       'Germany', 'Mexico', 'Brazil', 'France', 'Switzerland',\n",
              "       'United Kingdom', 'Croatia', 'Ireland', 'Belgium', 'Argentina',\n",
              "       'Singapore', 'Canada', 'Netherlands', 'Belorussia', 'Turkey',\n",
              "       'India', 'Vietnam', 'Russia', 'United Arab Emirates', 'Thailand',\n",
              "       'Philippines', 'Peru', 'Austria', 'New Zealand', 'Rusia',\n",
              "       'Slovakia', 'Malaysia', 'Poland'], dtype=object)"
            ]
          },
          "metadata": {},
          "execution_count": 28
        }
      ]
    },
    {
      "cell_type": "code",
      "metadata": {
        "colab": {
          "base_uri": "https://localhost:8080/",
          "height": 385
        },
        "id": "Avo3IMh4KRkK",
        "outputId": "4dbec973-ece6-4d39-a323-6b3f72180db0"
      },
      "source": [
        "# Gráfico para los tipos de transporte por año\n",
        "sns.catplot(x='year', data=datos, hue='transport_mode',kind='count')"
      ],
      "execution_count": 29,
      "outputs": [
        {
          "output_type": "execute_result",
          "data": {
            "text/plain": [
              "<seaborn.axisgrid.FacetGrid at 0x7f0feb724110>"
            ]
          },
          "metadata": {},
          "execution_count": 29
        },
        {
          "output_type": "display_data",
          "data": {
            "image/png": "[encoded data removed]",
            "text/plain": [
              "<Figure size 447.125x360 with 1 Axes>"
            ]
          },
          "metadata": {
            "needs_background": "light"
          }
        }
      ]
    },
    {
      "cell_type": "code",
      "metadata": {
        "colab": {
          "base_uri": "https://localhost:8080/"
        },
        "id": "PsoNA8UmKX37",
        "outputId": "63e20e3b-12eb-4b70-c81d-e1855287ed5f"
      },
      "source": [
        "datos['origin'].unique()"
      ],
      "execution_count": 30,
      "outputs": [
        {
          "output_type": "execute_result",
          "data": {
            "text/plain": [
              "array(['Japan', 'Germany', 'China', 'Italy', 'USA', 'Russia',\n",
              "       'South Korea', 'Netherlands', 'France', 'Canada', 'Belgium',\n",
              "       'Spain', 'India', 'United Kingdom', 'Australia', 'Brazil',\n",
              "       'Switzerland', 'Mexico', 'Austria', 'Singapore', 'Vietnam',\n",
              "       'Malaysia', 'United Arab Emirates'], dtype=object)"
            ]
          },
          "metadata": {},
          "execution_count": 30
        }
      ]
    },
    {
      "cell_type": "code",
      "metadata": {
        "id": "PFCBYLtmPEac"
      },
      "source": [
        "datos['origin'].unique()\n"
      ],
      "execution_count": null,
      "outputs": []
    },
    {
      "cell_type": "code",
      "metadata": {
        "colab": {
          "base_uri": "https://localhost:8080/",
          "height": 575
        },
        "id": "MCZ8oIkFL9f7",
        "outputId": "eb896dc6-e934-45a0-b868-85c886702c23"
      },
      "source": [
        "# Gráfico para los tipos de transporte por año\n",
        "sns.catplot(x='origin', data=datos, hue='destination',kind='count')"
      ],
      "execution_count": 41,
      "outputs": [
        {
          "output_type": "execute_result",
          "data": {
            "text/plain": [
              "<seaborn.axisgrid.FacetGrid at 0x7f0feaaef350>"
            ]
          },
          "metadata": {},
          "execution_count": 41
        },
        {
          "output_type": "display_data",
          "data": {
            "image/png": "[encoded data removed]",
            "text/plain": [
              "<Figure size 502.875x360 with 1 Axes>"
            ]
          },
          "metadata": {
            "needs_background": "light"
          }
        }
      ]
    },
    {
      "cell_type": "code",
      "metadata": {
        "id": "ZeQpO1BiQG8D"
      },
      "source": [
        "ventas_df = pd.read_csv('synergy_logistics_database.txt')"
      ],
      "execution_count": 44,
      "outputs": []
    },
    {
      "cell_type": "code",
      "metadata": {
        "colab": {
          "base_uri": "https://localhost:8080/",
          "height": 200
        },
        "id": "-LzynIkIQVnu",
        "outputId": "ffe7c090-df1a-450a-972a-9c8bab73162a"
      },
      "source": [
        "\n",
        "#Looking at the first few rows in the dataset.\n",
        "ventas_df.head()"
      ],
      "execution_count": 46,
      "outputs": [
        {
          "output_type": "execute_result",
          "data": {
            "text/html": [
              "<div>\n",
              "<style scoped>\n",
              "    .dataframe tbody tr th:only-of-type {\n",
              "        vertical-align: middle;\n",
              "    }\n",
              "\n",
              "    .dataframe tbody tr th {\n",
              "        vertical-align: top;\n",
              "    }\n",
              "\n",
              "    .dataframe thead th {\n",
              "        text-align: right;\n",
              "    }\n",
              "</style>\n",
              "<table border=\"1\" class=\"dataframe\">\n",
              "  <thead>\n",
              "    <tr style=\"text-align: right;\">\n",
              "      <th></th>\n",
              "      <th>register_id</th>\n",
              "      <th>direction</th>\n",
              "      <th>origin</th>\n",
              "      <th>destination</th>\n",
              "      <th>year</th>\n",
              "      <th>date</th>\n",
              "      <th>product</th>\n",
              "      <th>transport_mode</th>\n",
              "      <th>company_name</th>\n",
              "      <th>total_value</th>\n",
              "    </tr>\n",
              "  </thead>\n",
              "  <tbody>\n",
              "    <tr>\n",
              "      <th>0</th>\n",
              "      <td>1</td>\n",
              "      <td>Exports</td>\n",
              "      <td>Japan</td>\n",
              "      <td>China</td>\n",
              "      <td>2015</td>\n",
              "      <td>31/01/15</td>\n",
              "      <td>Cars</td>\n",
              "      <td>Sea</td>\n",
              "      <td>Honda</td>\n",
              "      <td>33000000</td>\n",
              "    </tr>\n",
              "    <tr>\n",
              "      <th>1</th>\n",
              "      <td>2</td>\n",
              "      <td>Exports</td>\n",
              "      <td>Japan</td>\n",
              "      <td>China</td>\n",
              "      <td>2015</td>\n",
              "      <td>01/02/15</td>\n",
              "      <td>Cars</td>\n",
              "      <td>Sea</td>\n",
              "      <td>Honda</td>\n",
              "      <td>16000000</td>\n",
              "    </tr>\n",
              "    <tr>\n",
              "      <th>2</th>\n",
              "      <td>3</td>\n",
              "      <td>Exports</td>\n",
              "      <td>Japan</td>\n",
              "      <td>China</td>\n",
              "      <td>2015</td>\n",
              "      <td>02/02/15</td>\n",
              "      <td>Cars</td>\n",
              "      <td>Sea</td>\n",
              "      <td>Honda</td>\n",
              "      <td>29000000</td>\n",
              "    </tr>\n",
              "    <tr>\n",
              "      <th>3</th>\n",
              "      <td>4</td>\n",
              "      <td>Exports</td>\n",
              "      <td>Japan</td>\n",
              "      <td>China</td>\n",
              "      <td>2015</td>\n",
              "      <td>03/02/15</td>\n",
              "      <td>Cars</td>\n",
              "      <td>Sea</td>\n",
              "      <td>Honda</td>\n",
              "      <td>14000000</td>\n",
              "    </tr>\n",
              "    <tr>\n",
              "      <th>4</th>\n",
              "      <td>5</td>\n",
              "      <td>Exports</td>\n",
              "      <td>Japan</td>\n",
              "      <td>China</td>\n",
              "      <td>2015</td>\n",
              "      <td>04/02/15</td>\n",
              "      <td>Cars</td>\n",
              "      <td>Sea</td>\n",
              "      <td>Honda</td>\n",
              "      <td>17000000</td>\n",
              "    </tr>\n",
              "  </tbody>\n",
              "</table>\n",
              "</div>"
            ],
            "text/plain": [
              "   register_id direction origin  ... transport_mode  company_name total_value\n",
              "0            1   Exports  Japan  ...            Sea         Honda    33000000\n",
              "1            2   Exports  Japan  ...            Sea         Honda    16000000\n",
              "2            3   Exports  Japan  ...            Sea         Honda    29000000\n",
              "3            4   Exports  Japan  ...            Sea         Honda    14000000\n",
              "4            5   Exports  Japan  ...            Sea         Honda    17000000\n",
              "\n",
              "[5 rows x 10 columns]"
            ]
          },
          "metadata": {},
          "execution_count": 46
        }
      ]
    },
    {
      "cell_type": "code",
      "metadata": {
        "colab": {
          "base_uri": "https://localhost:8080/"
        },
        "id": "1M7DUcZ7MxgW",
        "outputId": "504be064-a2f7-4e7e-b23f-01ecfe1d39fc"
      },
      "source": [
        "ventas_df.info()"
      ],
      "execution_count": 47,
      "outputs": [
        {
          "output_type": "stream",
          "name": "stdout",
          "text": [
            "<class 'pandas.core.frame.DataFrame'>\n",
            "RangeIndex: 19056 entries, 0 to 19055\n",
            "Data columns (total 10 columns):\n",
            " #   Column          Non-Null Count  Dtype \n",
            "---  ------          --------------  ----- \n",
            " 0   register_id     19056 non-null  int64 \n",
            " 1   direction       19056 non-null  object\n",
            " 2   origin          19056 non-null  object\n",
            " 3   destination     19056 non-null  object\n",
            " 4   year            19056 non-null  int64 \n",
            " 5   date            19056 non-null  object\n",
            " 6   product         19056 non-null  object\n",
            " 7   transport_mode  19056 non-null  object\n",
            " 8   company_name    19056 non-null  object\n",
            " 9   total_value     19056 non-null  int64 \n",
            "dtypes: int64(3), object(7)\n",
            "memory usage: 1.5+ MB\n"
          ]
        }
      ]
    },
    {
      "cell_type": "code",
      "metadata": {
        "colab": {
          "base_uri": "https://localhost:8080/",
          "height": 290
        },
        "id": "40XyQnI3QfsA",
        "outputId": "b1afaaa6-0df2-4feb-ce24-c91ec2b6ed78"
      },
      "source": [
        "ventas_df.describe()"
      ],
      "execution_count": 48,
      "outputs": [
        {
          "output_type": "execute_result",
          "data": {
            "text/html": [
              "<div>\n",
              "<style scoped>\n",
              "    .dataframe tbody tr th:only-of-type {\n",
              "        vertical-align: middle;\n",
              "    }\n",
              "\n",
              "    .dataframe tbody tr th {\n",
              "        vertical-align: top;\n",
              "    }\n",
              "\n",
              "    .dataframe thead th {\n",
              "        text-align: right;\n",
              "    }\n",
              "</style>\n",
              "<table border=\"1\" class=\"dataframe\">\n",
              "  <thead>\n",
              "    <tr style=\"text-align: right;\">\n",
              "      <th></th>\n",
              "      <th>register_id</th>\n",
              "      <th>year</th>\n",
              "      <th>total_value</th>\n",
              "    </tr>\n",
              "  </thead>\n",
              "  <tbody>\n",
              "    <tr>\n",
              "      <th>count</th>\n",
              "      <td>19056.000000</td>\n",
              "      <td>19056.000000</td>\n",
              "      <td>1.905600e+04</td>\n",
              "    </tr>\n",
              "    <tr>\n",
              "      <th>mean</th>\n",
              "      <td>9528.500000</td>\n",
              "      <td>2017.496327</td>\n",
              "      <td>1.131881e+07</td>\n",
              "    </tr>\n",
              "    <tr>\n",
              "      <th>std</th>\n",
              "      <td>5501.137701</td>\n",
              "      <td>1.706975</td>\n",
              "      <td>1.536656e+07</td>\n",
              "    </tr>\n",
              "    <tr>\n",
              "      <th>min</th>\n",
              "      <td>1.000000</td>\n",
              "      <td>2015.000000</td>\n",
              "      <td>0.000000e+00</td>\n",
              "    </tr>\n",
              "    <tr>\n",
              "      <th>25%</th>\n",
              "      <td>4764.750000</td>\n",
              "      <td>2016.000000</td>\n",
              "      <td>6.400000e+04</td>\n",
              "    </tr>\n",
              "    <tr>\n",
              "      <th>50%</th>\n",
              "      <td>9528.500000</td>\n",
              "      <td>2017.000000</td>\n",
              "      <td>5.000000e+06</td>\n",
              "    </tr>\n",
              "    <tr>\n",
              "      <th>75%</th>\n",
              "      <td>14292.250000</td>\n",
              "      <td>2019.000000</td>\n",
              "      <td>1.600000e+07</td>\n",
              "    </tr>\n",
              "    <tr>\n",
              "      <th>max</th>\n",
              "      <td>19056.000000</td>\n",
              "      <td>2020.000000</td>\n",
              "      <td>2.850000e+08</td>\n",
              "    </tr>\n",
              "  </tbody>\n",
              "</table>\n",
              "</div>"
            ],
            "text/plain": [
              "        register_id          year   total_value\n",
              "count  19056.000000  19056.000000  1.905600e+04\n",
              "mean    9528.500000   2017.496327  1.131881e+07\n",
              "std     5501.137701      1.706975  1.536656e+07\n",
              "min        1.000000   2015.000000  0.000000e+00\n",
              "25%     4764.750000   2016.000000  6.400000e+04\n",
              "50%     9528.500000   2017.000000  5.000000e+06\n",
              "75%    14292.250000   2019.000000  1.600000e+07\n",
              "max    19056.000000   2020.000000  2.850000e+08"
            ]
          },
          "metadata": {},
          "execution_count": 48
        }
      ]
    },
    {
      "cell_type": "code",
      "metadata": {
        "colab": {
          "base_uri": "https://localhost:8080/",
          "height": 470
        },
        "id": "TQc4-6HlQu2X",
        "outputId": "8edb3fcf-de40-441b-a630-390c47079c33"
      },
      "source": [
        "#Creating a factorplot, charting the total value column\n",
        "sns.factorplot('total_value',data=ventas_df,kind='count')"
      ],
      "execution_count": 50,
      "outputs": [
        {
          "output_type": "stream",
          "name": "stderr",
          "text": [
            "/usr/local/lib/python3.7/dist-packages/seaborn/categorical.py:3717: UserWarning: The `factorplot` function has been renamed to `catplot`. The original name will be removed in a future release. Please update your code. Note that the default `kind` in `factorplot` (`'point'`) has changed `'strip'` in `catplot`.\n",
            "  warnings.warn(msg)\n",
            "/usr/local/lib/python3.7/dist-packages/seaborn/_decorators.py:43: FutureWarning: Pass the following variable as a keyword arg: x. From version 0.12, the only valid positional argument will be `data`, and passing other arguments without an explicit keyword will result in an error or misinterpretation.\n",
            "  FutureWarning\n"
          ]
        },
        {
          "output_type": "execute_result",
          "data": {
            "text/plain": [
              "<seaborn.axisgrid.FacetGrid at 0x7f0fe9f6de50>"
            ]
          },
          "metadata": {},
          "execution_count": 50
        },
        {
          "output_type": "display_data",
          "data": {
            "image/png": "[encoded data removed]",
            "text/plain": [
              "<Figure size 360x360 with 1 Axes>"
            ]
          },
          "metadata": {
            "needs_background": "light"
          }
        }
      ]
    },
    {
      "cell_type": "code",
      "metadata": {
        "colab": {
          "base_uri": "https://localhost:8080/",
          "height": 470
        },
        "id": "4InTwfgeR3YZ",
        "outputId": "4b79d171-5446-4aaf-b135-ce6712fd4fb1"
      },
      "source": [
        "#Creating a factorplot, charting the total value column\n",
        "sns.factorplot('destination',data=ventas_df,kind='count')"
      ],
      "execution_count": 55,
      "outputs": [
        {
          "output_type": "stream",
          "name": "stderr",
          "text": [
            "/usr/local/lib/python3.7/dist-packages/seaborn/categorical.py:3717: UserWarning: The `factorplot` function has been renamed to `catplot`. The original name will be removed in a future release. Please update your code. Note that the default `kind` in `factorplot` (`'point'`) has changed `'strip'` in `catplot`.\n",
            "  warnings.warn(msg)\n",
            "/usr/local/lib/python3.7/dist-packages/seaborn/_decorators.py:43: FutureWarning: Pass the following variable as a keyword arg: x. From version 0.12, the only valid positional argument will be `data`, and passing other arguments without an explicit keyword will result in an error or misinterpretation.\n",
            "  FutureWarning\n"
          ]
        },
        {
          "output_type": "execute_result",
          "data": {
            "text/plain": [
              "<seaborn.axisgrid.FacetGrid at 0x7f0fe9863310>"
            ]
          },
          "metadata": {},
          "execution_count": 55
        },
        {
          "output_type": "display_data",
          "data": {
            "image/png": "[encoded data removed]",
            "text/plain": [
              "<Figure size 360x360 with 1 Axes>"
            ]
          },
          "metadata": {
            "needs_background": "light"
          }
        }
      ]
    },
    {
      "cell_type": "code",
      "metadata": {
        "colab": {
          "base_uri": "https://localhost:8080/",
          "height": 660
        },
        "id": "Zqer9XYUScMJ",
        "outputId": "47b35100-253a-456d-a072-48a295955db6"
      },
      "source": [
        "\n",
        "sns.factorplot('total_value',data=ventas_df,hue='destination',kind='count')"
      ],
      "execution_count": 58,
      "outputs": [
        {
          "output_type": "stream",
          "name": "stderr",
          "text": [
            "/usr/local/lib/python3.7/dist-packages/seaborn/categorical.py:3717: UserWarning: The `factorplot` function has been renamed to `catplot`. The original name will be removed in a future release. Please update your code. Note that the default `kind` in `factorplot` (`'point'`) has changed `'strip'` in `catplot`.\n",
            "  warnings.warn(msg)\n",
            "/usr/local/lib/python3.7/dist-packages/seaborn/_decorators.py:43: FutureWarning: Pass the following variable as a keyword arg: x. From version 0.12, the only valid positional argument will be `data`, and passing other arguments without an explicit keyword will result in an error or misinterpretation.\n",
            "  FutureWarning\n"
          ]
        },
        {
          "output_type": "execute_result",
          "data": {
            "text/plain": [
              "<seaborn.axisgrid.FacetGrid at 0x7f0fe3e31d90>"
            ]
          },
          "metadata": {},
          "execution_count": 58
        },
        {
          "output_type": "display_data",
          "data": {
            "image/png": "[encoded data removed]",
            "text/plain": [
              "<Figure size 502.875x360 with 1 Axes>"
            ]
          },
          "metadata": {
            "needs_background": "light"
          }
        }
      ]
    },
    {
      "cell_type": "code",
      "metadata": {
        "colab": {
          "base_uri": "https://localhost:8080/",
          "height": 653
        },
        "id": "TH2einlLUbjZ",
        "outputId": "c5fe6abf-2d1c-48f7-f058-b8bde79c6bc2"
      },
      "source": [
        "ventas_df[0:20]"
      ],
      "execution_count": 61,
      "outputs": [
        {
          "output_type": "execute_result",
          "data": {
            "text/html": [
              "<div>\n",
              "<style scoped>\n",
              "    .dataframe tbody tr th:only-of-type {\n",
              "        vertical-align: middle;\n",
              "    }\n",
              "\n",
              "    .dataframe tbody tr th {\n",
              "        vertical-align: top;\n",
              "    }\n",
              "\n",
              "    .dataframe thead th {\n",
              "        text-align: right;\n",
              "    }\n",
              "</style>\n",
              "<table border=\"1\" class=\"dataframe\">\n",
              "  <thead>\n",
              "    <tr style=\"text-align: right;\">\n",
              "      <th></th>\n",
              "      <th>register_id</th>\n",
              "      <th>direction</th>\n",
              "      <th>origin</th>\n",
              "      <th>destination</th>\n",
              "      <th>year</th>\n",
              "      <th>date</th>\n",
              "      <th>product</th>\n",
              "      <th>transport_mode</th>\n",
              "      <th>company_name</th>\n",
              "      <th>total_value</th>\n",
              "    </tr>\n",
              "  </thead>\n",
              "  <tbody>\n",
              "    <tr>\n",
              "      <th>0</th>\n",
              "      <td>1</td>\n",
              "      <td>Exports</td>\n",
              "      <td>Japan</td>\n",
              "      <td>China</td>\n",
              "      <td>2015</td>\n",
              "      <td>31/01/15</td>\n",
              "      <td>Cars</td>\n",
              "      <td>Sea</td>\n",
              "      <td>Honda</td>\n",
              "      <td>33000000</td>\n",
              "    </tr>\n",
              "    <tr>\n",
              "      <th>1</th>\n",
              "      <td>2</td>\n",
              "      <td>Exports</td>\n",
              "      <td>Japan</td>\n",
              "      <td>China</td>\n",
              "      <td>2015</td>\n",
              "      <td>01/02/15</td>\n",
              "      <td>Cars</td>\n",
              "      <td>Sea</td>\n",
              "      <td>Honda</td>\n",
              "      <td>16000000</td>\n",
              "    </tr>\n",
              "    <tr>\n",
              "      <th>2</th>\n",
              "      <td>3</td>\n",
              "      <td>Exports</td>\n",
              "      <td>Japan</td>\n",
              "      <td>China</td>\n",
              "      <td>2015</td>\n",
              "      <td>02/02/15</td>\n",
              "      <td>Cars</td>\n",
              "      <td>Sea</td>\n",
              "      <td>Honda</td>\n",
              "      <td>29000000</td>\n",
              "    </tr>\n",
              "    <tr>\n",
              "      <th>3</th>\n",
              "      <td>4</td>\n",
              "      <td>Exports</td>\n",
              "      <td>Japan</td>\n",
              "      <td>China</td>\n",
              "      <td>2015</td>\n",
              "      <td>03/02/15</td>\n",
              "      <td>Cars</td>\n",
              "      <td>Sea</td>\n",
              "      <td>Honda</td>\n",
              "      <td>14000000</td>\n",
              "    </tr>\n",
              "    <tr>\n",
              "      <th>4</th>\n",
              "      <td>5</td>\n",
              "      <td>Exports</td>\n",
              "      <td>Japan</td>\n",
              "      <td>China</td>\n",
              "      <td>2015</td>\n",
              "      <td>04/02/15</td>\n",
              "      <td>Cars</td>\n",
              "      <td>Sea</td>\n",
              "      <td>Honda</td>\n",
              "      <td>17000000</td>\n",
              "    </tr>\n",
              "    <tr>\n",
              "      <th>5</th>\n",
              "      <td>6</td>\n",
              "      <td>Exports</td>\n",
              "      <td>Japan</td>\n",
              "      <td>China</td>\n",
              "      <td>2015</td>\n",
              "      <td>05/02/15</td>\n",
              "      <td>Cars</td>\n",
              "      <td>Sea</td>\n",
              "      <td>Honda</td>\n",
              "      <td>20000000</td>\n",
              "    </tr>\n",
              "    <tr>\n",
              "      <th>6</th>\n",
              "      <td>7</td>\n",
              "      <td>Exports</td>\n",
              "      <td>Japan</td>\n",
              "      <td>China</td>\n",
              "      <td>2015</td>\n",
              "      <td>06/02/15</td>\n",
              "      <td>Cars</td>\n",
              "      <td>Sea</td>\n",
              "      <td>Honda</td>\n",
              "      <td>27000000</td>\n",
              "    </tr>\n",
              "    <tr>\n",
              "      <th>7</th>\n",
              "      <td>8</td>\n",
              "      <td>Exports</td>\n",
              "      <td>Japan</td>\n",
              "      <td>China</td>\n",
              "      <td>2015</td>\n",
              "      <td>07/02/15</td>\n",
              "      <td>Cars</td>\n",
              "      <td>Sea</td>\n",
              "      <td>Honda</td>\n",
              "      <td>33000000</td>\n",
              "    </tr>\n",
              "    <tr>\n",
              "      <th>8</th>\n",
              "      <td>9</td>\n",
              "      <td>Exports</td>\n",
              "      <td>Japan</td>\n",
              "      <td>USA</td>\n",
              "      <td>2015</td>\n",
              "      <td>08/02/15</td>\n",
              "      <td>Machinery and electronics</td>\n",
              "      <td>Air</td>\n",
              "      <td>ReachExt J.J</td>\n",
              "      <td>15000000</td>\n",
              "    </tr>\n",
              "    <tr>\n",
              "      <th>9</th>\n",
              "      <td>10</td>\n",
              "      <td>Exports</td>\n",
              "      <td>Japan</td>\n",
              "      <td>USA</td>\n",
              "      <td>2015</td>\n",
              "      <td>09/02/15</td>\n",
              "      <td>Machinery and electronics</td>\n",
              "      <td>Air</td>\n",
              "      <td>ReachExt J.J</td>\n",
              "      <td>31000000</td>\n",
              "    </tr>\n",
              "    <tr>\n",
              "      <th>10</th>\n",
              "      <td>11</td>\n",
              "      <td>Exports</td>\n",
              "      <td>Japan</td>\n",
              "      <td>USA</td>\n",
              "      <td>2015</td>\n",
              "      <td>10/02/15</td>\n",
              "      <td>Machinery and electronics</td>\n",
              "      <td>Air</td>\n",
              "      <td>ReachExt J.J</td>\n",
              "      <td>12000000</td>\n",
              "    </tr>\n",
              "    <tr>\n",
              "      <th>11</th>\n",
              "      <td>12</td>\n",
              "      <td>Exports</td>\n",
              "      <td>Japan</td>\n",
              "      <td>USA</td>\n",
              "      <td>2015</td>\n",
              "      <td>11/02/15</td>\n",
              "      <td>Machinery and electronics</td>\n",
              "      <td>Air</td>\n",
              "      <td>ReachExt J.J</td>\n",
              "      <td>10000000</td>\n",
              "    </tr>\n",
              "    <tr>\n",
              "      <th>12</th>\n",
              "      <td>13</td>\n",
              "      <td>Exports</td>\n",
              "      <td>Japan</td>\n",
              "      <td>USA</td>\n",
              "      <td>2015</td>\n",
              "      <td>12/02/15</td>\n",
              "      <td>Machinery and electronics</td>\n",
              "      <td>Air</td>\n",
              "      <td>ReachExt J.J</td>\n",
              "      <td>28000000</td>\n",
              "    </tr>\n",
              "    <tr>\n",
              "      <th>13</th>\n",
              "      <td>14</td>\n",
              "      <td>Exports</td>\n",
              "      <td>Japan</td>\n",
              "      <td>USA</td>\n",
              "      <td>2015</td>\n",
              "      <td>13/02/15</td>\n",
              "      <td>Machinery and electronics</td>\n",
              "      <td>Air</td>\n",
              "      <td>ReachExt J.J</td>\n",
              "      <td>32000000</td>\n",
              "    </tr>\n",
              "    <tr>\n",
              "      <th>14</th>\n",
              "      <td>15</td>\n",
              "      <td>Exports</td>\n",
              "      <td>Japan</td>\n",
              "      <td>USA</td>\n",
              "      <td>2015</td>\n",
              "      <td>14/02/15</td>\n",
              "      <td>Machinery and electronics</td>\n",
              "      <td>Air</td>\n",
              "      <td>ReachExt J.J</td>\n",
              "      <td>23000000</td>\n",
              "    </tr>\n",
              "    <tr>\n",
              "      <th>15</th>\n",
              "      <td>16</td>\n",
              "      <td>Exports</td>\n",
              "      <td>Japan</td>\n",
              "      <td>USA</td>\n",
              "      <td>2015</td>\n",
              "      <td>15/02/15</td>\n",
              "      <td>Machinery and electronics</td>\n",
              "      <td>Air</td>\n",
              "      <td>ReachExt J.J</td>\n",
              "      <td>33000000</td>\n",
              "    </tr>\n",
              "    <tr>\n",
              "      <th>16</th>\n",
              "      <td>17</td>\n",
              "      <td>Exports</td>\n",
              "      <td>Japan</td>\n",
              "      <td>USA</td>\n",
              "      <td>2015</td>\n",
              "      <td>16/02/15</td>\n",
              "      <td>Machinery and electronics</td>\n",
              "      <td>Air</td>\n",
              "      <td>ReachExt J.J</td>\n",
              "      <td>42000000</td>\n",
              "    </tr>\n",
              "    <tr>\n",
              "      <th>17</th>\n",
              "      <td>18</td>\n",
              "      <td>Exports</td>\n",
              "      <td>Japan</td>\n",
              "      <td>USA</td>\n",
              "      <td>2015</td>\n",
              "      <td>17/02/15</td>\n",
              "      <td>Machinery and electronics</td>\n",
              "      <td>Air</td>\n",
              "      <td>ReachExt J.J</td>\n",
              "      <td>32000000</td>\n",
              "    </tr>\n",
              "    <tr>\n",
              "      <th>18</th>\n",
              "      <td>19</td>\n",
              "      <td>Exports</td>\n",
              "      <td>Japan</td>\n",
              "      <td>USA</td>\n",
              "      <td>2015</td>\n",
              "      <td>18/02/15</td>\n",
              "      <td>Machinery and electronics</td>\n",
              "      <td>Air</td>\n",
              "      <td>ReachExt J.J</td>\n",
              "      <td>15000000</td>\n",
              "    </tr>\n",
              "    <tr>\n",
              "      <th>19</th>\n",
              "      <td>20</td>\n",
              "      <td>Exports</td>\n",
              "      <td>Japan</td>\n",
              "      <td>USA</td>\n",
              "      <td>2015</td>\n",
              "      <td>19/02/15</td>\n",
              "      <td>Machinery and electronics</td>\n",
              "      <td>Air</td>\n",
              "      <td>ReachExt J.J</td>\n",
              "      <td>45000000</td>\n",
              "    </tr>\n",
              "  </tbody>\n",
              "</table>\n",
              "</div>"
            ],
            "text/plain": [
              "    register_id direction origin  ... transport_mode  company_name total_value\n",
              "0             1   Exports  Japan  ...            Sea         Honda    33000000\n",
              "1             2   Exports  Japan  ...            Sea         Honda    16000000\n",
              "2             3   Exports  Japan  ...            Sea         Honda    29000000\n",
              "3             4   Exports  Japan  ...            Sea         Honda    14000000\n",
              "4             5   Exports  Japan  ...            Sea         Honda    17000000\n",
              "5             6   Exports  Japan  ...            Sea         Honda    20000000\n",
              "6             7   Exports  Japan  ...            Sea         Honda    27000000\n",
              "7             8   Exports  Japan  ...            Sea         Honda    33000000\n",
              "8             9   Exports  Japan  ...            Air  ReachExt J.J    15000000\n",
              "9            10   Exports  Japan  ...            Air  ReachExt J.J    31000000\n",
              "10           11   Exports  Japan  ...            Air  ReachExt J.J    12000000\n",
              "11           12   Exports  Japan  ...            Air  ReachExt J.J    10000000\n",
              "12           13   Exports  Japan  ...            Air  ReachExt J.J    28000000\n",
              "13           14   Exports  Japan  ...            Air  ReachExt J.J    32000000\n",
              "14           15   Exports  Japan  ...            Air  ReachExt J.J    23000000\n",
              "15           16   Exports  Japan  ...            Air  ReachExt J.J    33000000\n",
              "16           17   Exports  Japan  ...            Air  ReachExt J.J    42000000\n",
              "17           18   Exports  Japan  ...            Air  ReachExt J.J    32000000\n",
              "18           19   Exports  Japan  ...            Air  ReachExt J.J    15000000\n",
              "19           20   Exports  Japan  ...            Air  ReachExt J.J    45000000\n",
              "\n",
              "[20 rows x 10 columns]"
            ]
          },
          "metadata": {},
          "execution_count": 61
        }
      ]
    },
    {
      "cell_type": "code",
      "metadata": {
        "colab": {
          "base_uri": "https://localhost:8080/",
          "height": 281
        },
        "id": "jYDlZZd-TXDn",
        "outputId": "86147ab8-9567-4e73-b7aa-800d01e417db"
      },
      "source": [
        "ventas_df['product'].hist()"
      ],
      "execution_count": 62,
      "outputs": [
        {
          "output_type": "execute_result",
          "data": {
            "text/plain": [
              "<matplotlib.axes._subplots.AxesSubplot at 0x7f0fdb600490>"
            ]
          },
          "metadata": {},
          "execution_count": 62
        },
        {
          "output_type": "display_data",
          "data": {
            "image/png": "[encoded data removed]",
            "text/plain": [
              "<Figure size 432x288 with 1 Axes>"
            ]
          },
          "metadata": {
            "needs_background": "light"
          }
        }
      ]
    },
    {
      "cell_type": "code",
      "metadata": {
        "colab": {
          "base_uri": "https://localhost:8080/",
          "height": 485
        },
        "id": "IZYZja5vVnaC",
        "outputId": "d0d4026e-dca1-46c7-9501-251f3fadf3a3"
      },
      "source": [
        "\n",
        "fig = sns.FacetGrid(ventas_df,hue='product',aspect=4)\n",
        "\n",
        "fig.map(sns.kdeplot,'total_value',shade=True)\n",
        "\n",
        "oldest = ventas_df['total_value'].max()\n",
        "\n",
        "fig.set(xlim=(0,oldest))\n",
        "\n",
        "fig.add_legend()"
      ],
      "execution_count": 70,
      "outputs": [
        {
          "output_type": "execute_result",
          "data": {
            "text/plain": [
              "<seaborn.axisgrid.FacetGrid at 0x7f0fd8f262d0>"
            ]
          },
          "metadata": {},
          "execution_count": 70
        },
        {
          "output_type": "display_data",
          "data": {
            "image/png": "[encoded data removed]",
            "text/plain": [
              "<Figure size 1031.5x216 with 1 Axes>"
            ]
          },
          "metadata": {
            "needs_background": "light"
          }
        }
      ]
    },
    {
      "cell_type": "code",
      "metadata": {
        "colab": {
          "base_uri": "https://localhost:8080/",
          "height": 470
        },
        "id": "Yx0TLUUjWwr7",
        "outputId": "15f50232-21cb-4622-8bf6-efeb762d3f99"
      },
      "source": [
        "sns.factorplot('product',data=ventas_df,palette='winter_d',kind='count')"
      ],
      "execution_count": 77,
      "outputs": [
        {
          "output_type": "stream",
          "name": "stderr",
          "text": [
            "/usr/local/lib/python3.7/dist-packages/seaborn/categorical.py:3717: UserWarning: The `factorplot` function has been renamed to `catplot`. The original name will be removed in a future release. Please update your code. Note that the default `kind` in `factorplot` (`'point'`) has changed `'strip'` in `catplot`.\n",
            "  warnings.warn(msg)\n",
            "/usr/local/lib/python3.7/dist-packages/seaborn/_decorators.py:43: FutureWarning: Pass the following variable as a keyword arg: x. From version 0.12, the only valid positional argument will be `data`, and passing other arguments without an explicit keyword will result in an error or misinterpretation.\n",
            "  FutureWarning\n"
          ]
        },
        {
          "output_type": "execute_result",
          "data": {
            "text/plain": [
              "<seaborn.axisgrid.FacetGrid at 0x7f0fd8f05a10>"
            ]
          },
          "metadata": {},
          "execution_count": 77
        },
        {
          "output_type": "display_data",
          "data": {
            "image/png": "[encoded data removed]",
            "text/plain": [
              "<Figure size 360x360 with 1 Axes>"
            ]
          },
          "metadata": {
            "needs_background": "light"
          }
        }
      ]
    },
    {
      "cell_type": "code",
      "metadata": {
        "id": "tyUewe1qXG8z"
      },
      "source": [
        ""
      ],
      "execution_count": null,
      "outputs": []
    }
  ]
}